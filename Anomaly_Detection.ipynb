{
  "cells": [
    {
      "cell_type": "code",
      "execution_count": null,
      "metadata": {
        "id": "L4MBvMOy46MR"
      },
      "outputs": [],
      "source": [
        "#Importing necessary libraries\n",
        "import numpy as np\n",
        "import pandas as pd\n",
        "import warnings\n",
        "import matplotlib.pyplot as plt\n",
        "import seaborn as sns\n",
        "import tensorflow as tf\n",
        "from tensorflow.keras import regularizers\n",
        "import xgboost as xgb\n",
        "from sklearn.decomposition import PCA\n",
        "from sklearn.preprocessing import RobustScaler\n",
        "from sklearn.ensemble import RandomForestClassifier, IsolationForest\n",
        "from sklearn.neighbors import KNeighborsClassifier\n",
        "from sklearn.svm import OneClassSVM\n",
        "from sklearn.model_selection import train_test_split\n",
        "from sklearn import metrics"
      ]
    },
    {
      "cell_type": "code",
      "execution_count": null,
      "metadata": {
        "id": "bDtcEXGT5GTi"
      },
      "outputs": [],
      "source": [
        "cols = (['duration', 'protocol_type', 'service', 'flag', 'src_bytes', 'dst_bytes', 'land', 'wrong_fragment', 'urgent', 'hot',\n",
        "            'num_failed_logins', 'logged_in', 'num_compromised', 'root_shell', 'su_attempted', 'num_root', 'num_file_creations',\n",
        "            'num_shells', 'num_access_files', 'num_outbound_cmds', 'is_host_login', 'is_guest_login', 'count', 'srv_count', 'serror_rate',\n",
        "            'srv_serror_rate', 'rerror_rate', 'srv_rerror_rate', 'same_srv_rate', 'diff_srv_rate', 'srv_diff_host_rate', 'dst_host_count', 'dst_host_srv_count',\n",
        "            'dst_host_same_srv_rate', 'dst_host_diff_srv_rate', 'dst_host_same_src_port_rate', 'dst_host_srv_diff_host_rate', 'dst_host_serror_rate',\n",
        "            'dst_host_srv_serror_rate', 'dst_host_rerror_rate', 'dst_host_srv_rerror_rate', 'label', 'difficulty'])"
      ]
    },
    {
      "cell_type": "code",
      "execution_count": null,
      "metadata": {
        "id": "SwD2IGRi6WZk"
      },
      "outputs": [],
      "source": [
        "#Loading training and testing data\n",
        "train_data = pd.read_csv('/content/KDDTrain+.txt',names = cols)\n",
        "test_data = pd.read_csv('/content/KDDTest+.txt',names = cols)"
      ]
    },
    {
      "cell_type": "markdown",
      "metadata": {
        "id": "vNIGmUaH6uiL"
      },
      "source": [
        "## Data Preprocessing\n"
      ]
    },
    {
      "cell_type": "code",
      "execution_count": null,
      "metadata": {
        "id": "mLoYJqzj6kOg"
      },
      "outputs": [],
      "source": [
        "#Scaling the numerical data\n",
        "def Scaling(df_num, cols):\n",
        "    std_scaler = RobustScaler()\n",
        "    std_scaler_temp = std_scaler.fit_transform(df_num)\n",
        "    std_df = pd.DataFrame(std_scaler_temp, columns=cols)\n",
        "    return std_df\n",
        "\n",
        "#Listing out categorical columns for making numerical columns dataframe\n",
        "cat_cols = ['is_host_login', 'protocol_type', 'service', 'flag', 'land', 'logged_in', 'is_guest_login', 'difficulty', 'label']\n",
        "\n",
        "# Function for data preprocessing\n",
        "def preprocess(dataframe):\n",
        "    df_num = dataframe.drop(cat_cols, axis=1)\n",
        "    num_cols = df_num.columns\n",
        "    scaled_df = Scaling(df_num, num_cols)\n",
        "\n",
        "    dataframe.drop(labels=num_cols, axis=\"columns\", inplace=True)\n",
        "    dataframe[num_cols] = scaled_df[num_cols]\n",
        "\n",
        "    #Assigm=ning 0/1 values to labels columns\n",
        "    dataframe.loc[dataframe['label'] == \"normal\", \"label\"] = 0\n",
        "    dataframe.loc[dataframe['label'] != 0, \"label\"] = 1\n",
        "\n",
        "    dataframe = pd.get_dummies(dataframe, columns=['protocol_type', 'service', 'flag'])\n",
        "    return dataframe"
      ]
    },
    {
      "cell_type": "code",
      "execution_count": null,
      "metadata": {
        "id": "xCD92Rhn8pcf"
      },
      "outputs": [],
      "source": [
        "# Preprocessing the training dataset\n",
        "train_scaled = preprocess(train_data)"
      ]
    },
    {
      "cell_type": "code",
      "execution_count": null,
      "metadata": {
        "id": "hJkwJIl09CnY"
      },
      "outputs": [],
      "source": [
        "# Separatimg features (x) and labels (y)\n",
        "x = train_scaled.drop(['label', 'difficulty'], axis=1).values\n",
        "y = train_scaled['label'].values\n",
        "y_reg = train_scaled['difficulty'].values"
      ]
    },
    {
      "cell_type": "code",
      "execution_count": null,
      "metadata": {
        "colab": {
          "base_uri": "https://localhost:8080/"
        },
        "id": "NRGwKvOXhUo0",
        "outputId": "41c8f306-80e1-4906-fa69-7e45537fbb7c"
      },
      "outputs": [
        {
          "output_type": "stream",
          "name": "stdout",
          "text": [
            "Number of original features is 122 and of reduced features is 20\n"
          ]
        }
      ],
      "source": [
        "# Imputing missing values\n",
        "from sklearn.impute import SimpleImputer\n",
        "imputer = SimpleImputer(strategy='mean')\n",
        "x = imputer.fit_transform(x)\n",
        "\n",
        "# Check for NaN values after imputation\n",
        "if np.isnan(x).any():\n",
        "    print(\"Warning: NaN values exist after imputation. Dropping rows with NaN values.\")\n",
        "    nan_rows = np.isnan(x).any(axis=1)\n",
        "    x = x[~nan_rows]\n",
        "    y = y[~nan_rows]\n",
        "\n",
        "# Dimensionality reduction with PCA\n",
        "pca = PCA(n_components=20)\n",
        "x_reduced = pca.fit_transform(x)\n",
        "print(\"Number of original features is {} and of reduced features is {}\".format(x.shape[1], x_reduced.shape[1]))\n",
        "\n",
        "# Check for NaN values in the reduced dataset\n",
        "if np.isnan(x_reduced).any():\n",
        "    print(\"Warning: NaN values exist in the reduced dataset. Dropping rows with NaN values.\")\n",
        "    nan_rows_reduced = np.isnan(x_reduced).any(axis=1)\n",
        "    x_reduced = x_reduced[~nan_rows_reduced]\n",
        "\n",
        "# Convert labels to integers\n",
        "y = y.astype('int')"
      ]
    },
    {
      "cell_type": "code",
      "execution_count": null,
      "metadata": {
        "colab": {
          "base_uri": "https://localhost:8080/"
        },
        "id": "dp_XwQKqh3Kv",
        "outputId": "71adb455-599d-413a-bc8d-e6baf7202451"
      },
      "outputs": [
        {
          "output_type": "stream",
          "name": "stdout",
          "text": [
            "Number of original features is 122 and of reduced features is 20\n"
          ]
        }
      ],
      "source": [
        "# Spliting the data into training and testing sets\n",
        "x_train, x_test, y_train, y_test = train_test_split(x, y, test_size=0.2, random_state=42)\n",
        "x_train_reduced, x_test_reduced, y_train_reduced, y_test_reduced = train_test_split(x_reduced, y, test_size=0.2, random_state=42)\n",
        "x_train_reg, x_test_reg, y_train_reg, y_test_reg = train_test_split(x, y_reg, test_size=0.2, random_state=42)\n",
        "print(\"Number of original features is {} and of reduced features is {}\".format(x.shape[1], x_reduced.shape[1]))"
      ]
    },
    {
      "cell_type": "markdown",
      "metadata": {
        "id": "HpPgJnuZiNc6"
      },
      "source": [
        "## Model Evaluation"
      ]
    },
    {
      "cell_type": "code",
      "execution_count": null,
      "metadata": {
        "id": "aTrWT-zgiAvj"
      },
      "outputs": [],
      "source": [
        "# Dictionary to store model evaluations for later comparisons\n",
        "model_evals = dict()\n",
        "\n",
        "# Function to evaluate classification models\n",
        "def evaluate_classification(model, name, X_train, X_test, y_train, y_test):\n",
        "    if name == \"OneClassSVM\":\n",
        "        # For OneClassSVM, we consider only the normal class (0) in evaluation\n",
        "        y_train = y_train[y_train == 0]\n",
        "        y_test = y_test[y_test == 0]\n",
        "\n",
        "    train_accuracy = metrics.accuracy_score(y_train, model.predict(X_train))\n",
        "    test_accuracy = metrics.accuracy_score(y_test, model.predict(X_test))\n",
        "\n",
        "    train_precision = metrics.precision_score(y_train, model.predict(X_train), average='binary')\n",
        "    test_precision = metrics.precision_score(y_test, model.predict(X_test), average='binary')\n",
        "\n",
        "    train_recall = metrics.recall_score(y_train, model.predict(X_train), average='binary')\n",
        "    test_recall = metrics.recall_score(y_test, model.predict(X_test), average='binary')\n",
        "\n",
        "    model_evals[str(name)] = [train_accuracy, test_accuracy, train_precision, test_precision, train_recall, test_recall]\n",
        "    print(\"Train accuracy for {} is {} and test accuracy is {}\".format(name, train_accuracy * 100, test_accuracy * 100))\n",
        "    print(\"Train precision for {} is {} and test precision is {}\".format(name, train_precision * 100, test_precision * 100))\n",
        "    print(\"Train recall for {} is {} and test recall is {}\".format(name, train_recall * 100, test_recall * 100))\n",
        "\n",
        "    actual = y_test\n",
        "    predicted = model.predict(X_test)\n",
        "    confusion_matrix = metrics.confusion_matrix(actual, predicted)\n",
        "    cm_display = metrics.ConfusionMatrixDisplay(confusion_matrix=confusion_matrix, display_labels=['normal', 'attack'])\n",
        "\n",
        "    fig, ax = plt.subplots(figsize=(10, 10))\n",
        "    ax.grid(False)\n",
        "    cm_display.plot(ax=ax)\n",
        "\n",
        "    return [train_accuracy, test_accuracy, train_precision, test_precision, train_recall, test_recall]\n"
      ]
    },
    {
      "cell_type": "markdown",
      "metadata": {
        "id": "Hq-R43k58Ip9"
      },
      "source": [
        "## KNeighbors Classifier"
      ]
    },
    {
      "cell_type": "code",
      "execution_count": null,
      "metadata": {
        "colab": {
          "base_uri": "https://localhost:8080/",
          "height": 861
        },
        "id": "XKOERu7mbJf5",
        "outputId": "395ffefd-bec6-4c18-d5c5-b54f048bc1fb"
      },
      "outputs": [
        {
          "output_type": "stream",
          "name": "stdout",
          "text": [
            "Train accuracy for KNeighborsClassifier is 99.02260413979242 and test accuracy is 98.8727922206787\n",
            "Train precision for KNeighborsClassifier is 99.18089029933957 and test precision is 99.01868760133117\n",
            "Train recall for KNeighborsClassifier is 98.71310583263974 and test recall is 98.56451201902658\n"
          ]
        },
        {
          "output_type": "display_data",
          "data": {
            "text/plain": [
              "<Figure size 1000x1000 with 2 Axes>"
            ],
            "image/png": "[encoded data removed]"
          },
          "metadata": {}
        }
      ],
      "source": [
        "# A KNeighborsClassifier model with 20 neighbors\n",
        "knn = KNeighborsClassifier(n_neighbors=20).fit(x_train, y_train)\n",
        "\n",
        "# Evaluating the KNeighborsClassifier model using the evaluate_classification function\n",
        "knn_result = evaluate_classification(knn, \"KNeighborsClassifier\", x_train, x_test, y_train, y_test)\n",
        "\n",
        "#Storing the result in model_evals dictionary\n",
        "model_evals[\"KNN\"] = knn_result"
      ]
    },
    {
      "cell_type": "markdown",
      "metadata": {
        "id": "yIalp--uelbK"
      },
      "source": [
        "## Random Forest Classifier"
      ]
    },
    {
      "cell_type": "code",
      "execution_count": null,
      "metadata": {
        "id": "pby9abxnekqw",
        "colab": {
          "base_uri": "https://localhost:8080/",
          "height": 861
        },
        "outputId": "e43def53-3383-471e-d7d9-f110c1a15836"
      },
      "outputs": [
        {
          "output_type": "stream",
          "name": "stdout",
          "text": [
            "Train accuracy for RandomForestClassifier is 99.99801543987775 and test accuracy is 99.88489779718198\n",
            "Train precision for RandomForestClassifier is 99.99786584715197 and test precision is 99.94896223205171\n",
            "Train recall for RandomForestClassifier is 99.99786584715197 and test recall is 99.80463773040007\n"
          ]
        },
        {
          "output_type": "display_data",
          "data": {
            "text/plain": [
              "<Figure size 1000x1000 with 2 Axes>"
            ],
            "image/png": "[encoded data removed]"
          },
          "metadata": {}
        }
      ],
      "source": [
        "# Create a RandomForestClassifier model\n",
        "rf = RandomForestClassifier().fit(x_train, y_train)\n",
        "\n",
        "# Evaluating the RandomForestClassifier model\n",
        "rf_result = evaluate_classification(rf, \"RandomForestClassifier\", x_train, x_test, y_train, y_test)\n",
        "\n",
        "#Storing the result in model_evals dictionary\n",
        "model_evals[\"RandomForestClassifier\"] = rf_result"
      ]
    },
    {
      "cell_type": "markdown",
      "metadata": {
        "id": "WHWtPbsj-rd0"
      },
      "source": [
        "## Displaying the results"
      ]
    },
    {
      "cell_type": "code",
      "execution_count": null,
      "metadata": {
        "id": "3e5WVSpx-wsO",
        "colab": {
          "base_uri": "https://localhost:8080/",
          "height": 143
        },
        "outputId": "25a5aaf7-650b-4e61-8964-bae65c154367"
      },
      "outputs": [
        {
          "output_type": "execute_result",
          "data": {
            "text/plain": [
              "                        Train Accuracy  Test Accuracy  Train Precision  \\\n",
              "KNeighborsClassifier          0.990226       0.988728         0.991809   \n",
              "KNN                           0.990226       0.988728         0.991809   \n",
              "RandomForestClassifier        0.999980       0.998849         0.999979   \n",
              "\n",
              "                        Test Precision  Train Recall  Test Recall  \n",
              "KNeighborsClassifier          0.990187      0.987131     0.985645  \n",
              "KNN                           0.990187      0.987131     0.985645  \n",
              "RandomForestClassifier        0.999490      0.999979     0.998046  "
            ],
            "text/html": [
              "\n",
              "  <div id=\"df-dfe8a086-782e-44e2-a1ac-cdc0b47e256a\" class=\"colab-df-container\">\n",
              "    <div>\n",
              "<style scoped>\n",
              "    .dataframe tbody tr th:only-of-type {\n",
              "        vertical-align: middle;\n",
              "    }\n",
              "\n",
              "    .dataframe tbody tr th {\n",
              "        vertical-align: top;\n",
              "    }\n",
              "\n",
              "    .dataframe thead th {\n",
              "        text-align: right;\n",
              "    }\n",
              "</style>\n",
              "<table border=\"1\" class=\"dataframe\">\n",
              "  <thead>\n",
              "    <tr style=\"text-align: right;\">\n",
              "      <th></th>\n",
              "      <th>Train Accuracy</th>\n",
              "      <th>Test Accuracy</th>\n",
              "      <th>Train Precision</th>\n",
              "      <th>Test Precision</th>\n",
              "      <th>Train Recall</th>\n",
              "      <th>Test Recall</th>\n",
              "    </tr>\n",
              "  </thead>\n",
              "  <tbody>\n",
              "    <tr>\n",
              "      <th>KNeighborsClassifier</th>\n",
              "      <td>0.990226</td>\n",
              "      <td>0.988728</td>\n",
              "      <td>0.991809</td>\n",
              "      <td>0.990187</td>\n",
              "      <td>0.987131</td>\n",
              "      <td>0.985645</td>\n",
              "    </tr>\n",
              "    <tr>\n",
              "      <th>KNN</th>\n",
              "      <td>0.990226</td>\n",
              "      <td>0.988728</td>\n",
              "      <td>0.991809</td>\n",
              "      <td>0.990187</td>\n",
              "      <td>0.987131</td>\n",
              "      <td>0.985645</td>\n",
              "    </tr>\n",
              "    <tr>\n",
              "      <th>RandomForestClassifier</th>\n",
              "      <td>0.999980</td>\n",
              "      <td>0.998849</td>\n",
              "      <td>0.999979</td>\n",
              "      <td>0.999490</td>\n",
              "      <td>0.999979</td>\n",
              "      <td>0.998046</td>\n",
              "    </tr>\n",
              "  </tbody>\n",
              "</table>\n",
              "</div>\n",
              "    <div class=\"colab-df-buttons\">\n",
              "\n",
              "  <div class=\"colab-df-container\">\n",
              "    <button class=\"colab-df-convert\" onclick=\"convertToInteractive('df-dfe8a086-782e-44e2-a1ac-cdc0b47e256a')\"\n",
              "            title=\"Convert this dataframe to an interactive table.\"\n",
              "            style=\"display:none;\">\n",
              "\n",
              "  <svg xmlns=\"http://www.w3.org/2000/svg\" height=\"24px\" viewBox=\"0 -960 960 960\">\n",
              "    <path d=\"M120-120v-720h720v720H120Zm60-500h600v-160H180v160Zm220 220h160v-160H400v160Zm0 220h160v-160H400v160ZM180-400h160v-160H180v160Zm440 0h160v-160H620v160ZM180-180h160v-160H180v160Zm440 0h160v-160H620v160Z\"/>\n",
              "  </svg>\n",
              "    </button>\n",
              "\n",
              "  <style>\n",
              "    .colab-df-container {\n",
              "      display:flex;\n",
              "      gap: 12px;\n",
              "    }\n",
              "\n",
              "    .colab-df-convert {\n",
              "      background-color: #E8F0FE;\n",
              "      border: none;\n",
              "      border-radius: 50%;\n",
              "      cursor: pointer;\n",
              "      display: none;\n",
              "      fill: #1967D2;\n",
              "      height: 32px;\n",
              "      padding: 0 0 0 0;\n",
              "      width: 32px;\n",
              "    }\n",
              "\n",
              "    .colab-df-convert:hover {\n",
              "      background-color: #E2EBFA;\n",
              "      box-shadow: 0px 1px 2px rgba(60, 64, 67, 0.3), 0px 1px 3px 1px rgba(60, 64, 67, 0.15);\n",
              "      fill: #174EA6;\n",
              "    }\n",
              "\n",
              "    .colab-df-buttons div {\n",
              "      margin-bottom: 4px;\n",
              "    }\n",
              "\n",
              "    [theme=dark] .colab-df-convert {\n",
              "      background-color: #3B4455;\n",
              "      fill: #D2E3FC;\n",
              "    }\n",
              "\n",
              "    [theme=dark] .colab-df-convert:hover {\n",
              "      background-color: #434B5C;\n",
              "      box-shadow: 0px 1px 3px 1px rgba(0, 0, 0, 0.15);\n",
              "      filter: drop-shadow(0px 1px 2px rgba(0, 0, 0, 0.3));\n",
              "      fill: #FFFFFF;\n",
              "    }\n",
              "  </style>\n",
              "\n",
              "    <script>\n",
              "      const buttonEl =\n",
              "        document.querySelector('#df-dfe8a086-782e-44e2-a1ac-cdc0b47e256a button.colab-df-convert');\n",
              "      buttonEl.style.display =\n",
              "        google.colab.kernel.accessAllowed ? 'block' : 'none';\n",
              "\n",
              "      async function convertToInteractive(key) {\n",
              "        const element = document.querySelector('#df-dfe8a086-782e-44e2-a1ac-cdc0b47e256a');\n",
              "        const dataTable =\n",
              "          await google.colab.kernel.invokeFunction('convertToInteractive',\n",
              "                                                    [key], {});\n",
              "        if (!dataTable) return;\n",
              "\n",
              "        const docLinkHtml = 'Like what you see? Visit the ' +\n",
              "          '<a target=\"_blank\" href=https://colab.research.google.com/notebooks/data_table.ipynb>data table notebook</a>'\n",
              "          + ' to learn more about interactive tables.';\n",
              "        element.innerHTML = '';\n",
              "        dataTable['output_type'] = 'display_data';\n",
              "        await google.colab.output.renderOutput(dataTable, element);\n",
              "        const docLink = document.createElement('div');\n",
              "        docLink.innerHTML = docLinkHtml;\n",
              "        element.appendChild(docLink);\n",
              "      }\n",
              "    </script>\n",
              "  </div>\n",
              "\n",
              "\n",
              "<div id=\"df-622d07b6-6d45-413a-97c9-335b4379a0cc\">\n",
              "  <button class=\"colab-df-quickchart\" onclick=\"quickchart('df-622d07b6-6d45-413a-97c9-335b4379a0cc')\"\n",
              "            title=\"Suggest charts\"\n",
              "            style=\"display:none;\">\n",
              "\n",
              "<svg xmlns=\"http://www.w3.org/2000/svg\" height=\"24px\"viewBox=\"0 0 24 24\"\n",
              "     width=\"24px\">\n",
              "    <g>\n",
              "        <path d=\"M19 3H5c-1.1 0-2 .9-2 2v14c0 1.1.9 2 2 2h14c1.1 0 2-.9 2-2V5c0-1.1-.9-2-2-2zM9 17H7v-7h2v7zm4 0h-2V7h2v10zm4 0h-2v-4h2v4z\"/>\n",
              "    </g>\n",
              "</svg>\n",
              "  </button>\n",
              "\n",
              "<style>\n",
              "  .colab-df-quickchart {\n",
              "      --bg-color: #E8F0FE;\n",
              "      --fill-color: #1967D2;\n",
              "      --hover-bg-color: #E2EBFA;\n",
              "      --hover-fill-color: #174EA6;\n",
              "      --disabled-fill-color: #AAA;\n",
              "      --disabled-bg-color: #DDD;\n",
              "  }\n",
              "\n",
              "  [theme=dark] .colab-df-quickchart {\n",
              "      --bg-color: #3B4455;\n",
              "      --fill-color: #D2E3FC;\n",
              "      --hover-bg-color: #434B5C;\n",
              "      --hover-fill-color: #FFFFFF;\n",
              "      --disabled-bg-color: #3B4455;\n",
              "      --disabled-fill-color: #666;\n",
              "  }\n",
              "\n",
              "  .colab-df-quickchart {\n",
              "    background-color: var(--bg-color);\n",
              "    border: none;\n",
              "    border-radius: 50%;\n",
              "    cursor: pointer;\n",
              "    display: none;\n",
              "    fill: var(--fill-color);\n",
              "    height: 32px;\n",
              "    padding: 0;\n",
              "    width: 32px;\n",
              "  }\n",
              "\n",
              "  .colab-df-quickchart:hover {\n",
              "    background-color: var(--hover-bg-color);\n",
              "    box-shadow: 0 1px 2px rgba(60, 64, 67, 0.3), 0 1px 3px 1px rgba(60, 64, 67, 0.15);\n",
              "    fill: var(--button-hover-fill-color);\n",
              "  }\n",
              "\n",
              "  .colab-df-quickchart-complete:disabled,\n",
              "  .colab-df-quickchart-complete:disabled:hover {\n",
              "    background-color: var(--disabled-bg-color);\n",
              "    fill: var(--disabled-fill-color);\n",
              "    box-shadow: none;\n",
              "  }\n",
              "\n",
              "  .colab-df-spinner {\n",
              "    border: 2px solid var(--fill-color);\n",
              "    border-color: transparent;\n",
              "    border-bottom-color: var(--fill-color);\n",
              "    animation:\n",
              "      spin 1s steps(1) infinite;\n",
              "  }\n",
              "\n",
              "  @keyframes spin {\n",
              "    0% {\n",
              "      border-color: transparent;\n",
              "      border-bottom-color: var(--fill-color);\n",
              "      border-left-color: var(--fill-color);\n",
              "    }\n",
              "    20% {\n",
              "      border-color: transparent;\n",
              "      border-left-color: var(--fill-color);\n",
              "      border-top-color: var(--fill-color);\n",
              "    }\n",
              "    30% {\n",
              "      border-color: transparent;\n",
              "      border-left-color: var(--fill-color);\n",
              "      border-top-color: var(--fill-color);\n",
              "      border-right-color: var(--fill-color);\n",
              "    }\n",
              "    40% {\n",
              "      border-color: transparent;\n",
              "      border-right-color: var(--fill-color);\n",
              "      border-top-color: var(--fill-color);\n",
              "    }\n",
              "    60% {\n",
              "      border-color: transparent;\n",
              "      border-right-color: var(--fill-color);\n",
              "    }\n",
              "    80% {\n",
              "      border-color: transparent;\n",
              "      border-right-color: var(--fill-color);\n",
              "      border-bottom-color: var(--fill-color);\n",
              "    }\n",
              "    90% {\n",
              "      border-color: transparent;\n",
              "      border-bottom-color: var(--fill-color);\n",
              "    }\n",
              "  }\n",
              "</style>\n",
              "\n",
              "  <script>\n",
              "    async function quickchart(key) {\n",
              "      const quickchartButtonEl =\n",
              "        document.querySelector('#' + key + ' button');\n",
              "      quickchartButtonEl.disabled = true;  // To prevent multiple clicks.\n",
              "      quickchartButtonEl.classList.add('colab-df-spinner');\n",
              "      try {\n",
              "        const charts = await google.colab.kernel.invokeFunction(\n",
              "            'suggestCharts', [key], {});\n",
              "      } catch (error) {\n",
              "        console.error('Error during call to suggestCharts:', error);\n",
              "      }\n",
              "      quickchartButtonEl.classList.remove('colab-df-spinner');\n",
              "      quickchartButtonEl.classList.add('colab-df-quickchart-complete');\n",
              "    }\n",
              "    (() => {\n",
              "      let quickchartButtonEl =\n",
              "        document.querySelector('#df-622d07b6-6d45-413a-97c9-335b4379a0cc button');\n",
              "      quickchartButtonEl.style.display =\n",
              "        google.colab.kernel.accessAllowed ? 'block' : 'none';\n",
              "    })();\n",
              "  </script>\n",
              "</div>\n",
              "\n",
              "  <div id=\"id_42529f6d-5f92-40ee-9220-907b7e987b2e\">\n",
              "    <style>\n",
              "      .colab-df-generate {\n",
              "        background-color: #E8F0FE;\n",
              "        border: none;\n",
              "        border-radius: 50%;\n",
              "        cursor: pointer;\n",
              "        display: none;\n",
              "        fill: #1967D2;\n",
              "        height: 32px;\n",
              "        padding: 0 0 0 0;\n",
              "        width: 32px;\n",
              "      }\n",
              "\n",
              "      .colab-df-generate:hover {\n",
              "        background-color: #E2EBFA;\n",
              "        box-shadow: 0px 1px 2px rgba(60, 64, 67, 0.3), 0px 1px 3px 1px rgba(60, 64, 67, 0.15);\n",
              "        fill: #174EA6;\n",
              "      }\n",
              "\n",
              "      [theme=dark] .colab-df-generate {\n",
              "        background-color: #3B4455;\n",
              "        fill: #D2E3FC;\n",
              "      }\n",
              "\n",
              "      [theme=dark] .colab-df-generate:hover {\n",
              "        background-color: #434B5C;\n",
              "        box-shadow: 0px 1px 3px 1px rgba(0, 0, 0, 0.15);\n",
              "        filter: drop-shadow(0px 1px 2px rgba(0, 0, 0, 0.3));\n",
              "        fill: #FFFFFF;\n",
              "      }\n",
              "    </style>\n",
              "    <button class=\"colab-df-generate\" onclick=\"generateWithVariable('model_evals_df')\"\n",
              "            title=\"Generate code using this dataframe.\"\n",
              "            style=\"display:none;\">\n",
              "\n",
              "  <svg xmlns=\"http://www.w3.org/2000/svg\" height=\"24px\"viewBox=\"0 0 24 24\"\n",
              "       width=\"24px\">\n",
              "    <path d=\"M7,19H8.4L18.45,9,17,7.55,7,17.6ZM5,21V16.75L18.45,3.32a2,2,0,0,1,2.83,0l1.4,1.43a1.91,1.91,0,0,1,.58,1.4,1.91,1.91,0,0,1-.58,1.4L9.25,21ZM18.45,9,17,7.55Zm-12,3A5.31,5.31,0,0,0,4.9,8.1,5.31,5.31,0,0,0,1,6.5,5.31,5.31,0,0,0,4.9,4.9,5.31,5.31,0,0,0,6.5,1,5.31,5.31,0,0,0,8.1,4.9,5.31,5.31,0,0,0,12,6.5,5.46,5.46,0,0,0,6.5,12Z\"/>\n",
              "  </svg>\n",
              "    </button>\n",
              "    <script>\n",
              "      (() => {\n",
              "      const buttonEl =\n",
              "        document.querySelector('#id_42529f6d-5f92-40ee-9220-907b7e987b2e button.colab-df-generate');\n",
              "      buttonEl.style.display =\n",
              "        google.colab.kernel.accessAllowed ? 'block' : 'none';\n",
              "\n",
              "      buttonEl.onclick = () => {\n",
              "        google.colab.notebook.generateWithVariable('model_evals_df');\n",
              "      }\n",
              "      })();\n",
              "    </script>\n",
              "  </div>\n",
              "\n",
              "    </div>\n",
              "  </div>\n"
            ]
          },
          "metadata": {},
          "execution_count": 13
        }
      ],
      "source": [
        "# Displaying the results\n",
        "model_evals_df = pd.DataFrame.from_dict(model_evals, orient='index', columns=['Train Accuracy', 'Test Accuracy', 'Train Precision', 'Test Precision', 'Train Recall', 'Test Recall'])\n",
        "model_evals_df"
      ]
    },
    {
      "cell_type": "markdown",
      "metadata": {
        "id": "Erjl-Vx5-zwy"
      },
      "source": [
        "## AutoEncoder Model\n"
      ]
    },
    {
      "cell_type": "code",
      "execution_count": null,
      "metadata": {
        "id": "waSk8KuM-zM3",
        "colab": {
          "base_uri": "https://localhost:8080/"
        },
        "outputId": "27e95a55-9d3e-4f8f-a1ec-290d6863dfae"
      },
      "outputs": [
        {
          "output_type": "stream",
          "name": "stdout",
          "text": [
            "3150/3150 [==============================] - 5s 2ms/step\n",
            "788/788 [==============================] - 1s 1ms/step\n",
            "Autoencoder evaluation results:\n",
            "MSE Train: Mean = 4890329.8412, Std = 829202271.0530\n",
            "MSE Test: Mean = 1750529.0401, Std = 262032035.1145\n"
          ]
        }
      ],
      "source": [
        "from keras.models import Model\n",
        "from keras.layers import Dense\n",
        "from keras.layers import Input\n",
        "\n",
        "# Function to create and train an autoencoder model\n",
        "def create_autoencoder(input_dim):\n",
        "    input_layer = Input(shape=(input_dim,))\n",
        "    encoded = Dense(20, activation='relu')(input_layer)\n",
        "    decoded = Dense(input_dim, activation='sigmoid')(encoded)\n",
        "\n",
        "    autoencoder = Model(input_layer, decoded)\n",
        "    autoencoder.compile(optimizer='adam', loss='mean_squared_error')\n",
        "\n",
        "    return autoencoder\n",
        "\n",
        "# Function to evaluate the autoencoder model\n",
        "def evaluate_autoencoder(model, X_train, X_test):\n",
        "    train_predictions = model.predict(X_train)\n",
        "    test_predictions = model.predict(X_test)\n",
        "\n",
        "    mse_train = np.mean(np.power(X_train - train_predictions, 2), axis=1)\n",
        "    mse_test = np.mean(np.power(X_test - test_predictions, 2), axis=1)\n",
        "\n",
        "    return mse_train, mse_test\n",
        "\n",
        "# Train the autoencoder model\n",
        "autoencoder_input_dim = x_train.shape[1]\n",
        "autoencoder = create_autoencoder(autoencoder_input_dim)\n",
        "\n",
        "autoencoder.fit(x_train, x_train, epochs=50, batch_size=256, shuffle=True, validation_data=(x_test, x_test), verbose=0)\n",
        "\n",
        "# Evaluate the autoencoder model\n",
        "mse_train, mse_test = evaluate_autoencoder(autoencoder, x_train, x_test)\n",
        "\n",
        "# Add the results to the model_evals dictionary\n",
        "model_evals[\"Autoencoder\"] = {\"MSE Train\": mse_train, \"MSE Test\": mse_test}\n",
        "\n",
        "# Display the evaluation results\n",
        "print(\"Autoencoder evaluation results:\")\n",
        "print(\"MSE Train: Mean = {:.4f}, Std = {:.4f}\".format(np.mean(mse_train), np.std(mse_train)))\n",
        "print(\"MSE Test: Mean = {:.4f}, Std = {:.4f}\".format(np.mean(mse_test), np.std(mse_test)))\n"
      ]
    },
    {
      "cell_type": "markdown",
      "source": [
        "## One Class SVM Model"
      ],
      "metadata": {
        "id": "bBmttlOeKrhI"
      }
    },
    {
      "cell_type": "code",
      "source": [
        "# Importing the necessary library\n",
        "from sklearn.svm import OneClassSVM\n",
        "from sklearn.metrics import accuracy_score, precision_score, recall_score, confusion_matrix, ConfusionMatrixDisplay\n",
        "\n",
        "# Creating and training the One-Class SVM model\n",
        "ocsvm = OneClassSVM(nu=0.01)  # Adjust the hyperparameter 'nu' as needed\n",
        "ocsvm.fit(x_train)\n",
        "\n",
        "# Function to evaluate the One-Class SVM model\n",
        "def evaluate_ocsvm(model, X_train, X_test, y_train, y_test):\n",
        "    train_predictions = model.predict(X_train)\n",
        "    test_predictions = model.predict(X_test)\n",
        "\n",
        "    # Converting predictions to binary labels (1 for inliers, -1 for outliers)\n",
        "    train_labels = [1 if pred == 1 else 0 for pred in train_predictions]\n",
        "    test_labels = [1 if pred == 1 else 0 for pred in test_predictions]\n",
        "\n",
        "    # Evaluation metrics\n",
        "    train_accuracy = accuracy_score(y_train, train_labels)\n",
        "    test_accuracy = accuracy_score(y_test, test_labels)\n",
        "\n",
        "    train_precision = precision_score(y_train, train_labels)\n",
        "    test_precision = precision_score(y_test, test_labels)\n",
        "\n",
        "    train_recall = recall_score(y_train, train_labels)\n",
        "    test_recall = recall_score(y_test, test_labels)\n",
        "\n",
        "    # Confusion Matrix\n",
        "    confusion_matrix_train = confusion_matrix(y_train, train_labels)\n",
        "    confusion_matrix_test = confusion_matrix(y_test, test_labels)\n",
        "\n",
        "    # Display Confusion Matrices\n",
        "    cm_display_train = ConfusionMatrixDisplay(confusion_matrix=confusion_matrix_train, display_labels=['normal', 'attack'])\n",
        "    cm_display_test = ConfusionMatrixDisplay(confusion_matrix=confusion_matrix_test, display_labels=['normal', 'attack'])\n",
        "\n",
        "    fig, (ax1, ax2) = plt.subplots(1, 2, figsize=(15, 5))\n",
        "\n",
        "    ax1.set_title(\"Train Set Confusion Matrix\")\n",
        "    cm_display_train.plot(ax=ax1)\n",
        "\n",
        "    ax2.set_title(\"Test Set Confusion Matrix\")\n",
        "    cm_display_test.plot(ax=ax2)\n",
        "\n",
        "    plt.show()\n",
        "\n",
        "    return {\n",
        "        \"Train Accuracy\": train_accuracy,\n",
        "        \"Test Accuracy\": test_accuracy,\n",
        "        \"Train Precision\": train_precision,\n",
        "        \"Test Precision\": test_precision,\n",
        "        \"Train Recall\": train_recall,\n",
        "        \"Test Recall\": test_recall\n",
        "    }\n",
        "\n",
        "# Evaluate the One-Class SVM model\n",
        "ocsvm_result = evaluate_ocsvm(ocsvm, x_train, x_test, y_train, y_test)\n",
        "\n",
        "# Store the results in the model_evals dictionary\n",
        "model_evals[\"OneClassSVM\"] = ocsvm_result\n",
        "\n",
        "# Display the evaluation results\n",
        "print(\"One-Class SVM evaluation results:\")\n",
        "for metric, value in ocsvm_result.items():\n",
        "    print(f\"{metric}: {value}\")\n"
      ],
      "metadata": {
        "colab": {
          "base_uri": "https://localhost:8080/",
          "height": 534
        },
        "id": "PnyI-7c1KyQY",
        "outputId": "1f3b25b1-e312-49d8-d737-f5cae768b6ea"
      },
      "execution_count": null,
      "outputs": [
        {
          "output_type": "display_data",
          "data": {
            "text/plain": [
              "<Figure size 1500x500 with 4 Axes>"
            ],
            "image/png": "[encoded data removed]"
          },
          "metadata": {}
        },
        {
          "output_type": "stream",
          "name": "stdout",
          "text": [
            "One-Class SVM evaluation results:\n",
            "Train Accuracy: 0.460150032745242\n",
            "Test Accuracy: 0.46219487993649533\n",
            "Train Precision: 0.4621760307883501\n",
            "Test Precision: 0.4643787836266688\n",
            "Train Recall: 0.9841645858676399\n",
            "Test Recall: 0.9838613777287013\n"
          ]
        }
      ]
    },
    {
      "cell_type": "markdown",
      "source": [
        "## Isolation Forest"
      ],
      "metadata": {
        "id": "w2v6NBeqMBdw"
      }
    },
    {
      "cell_type": "code",
      "source": [
        "# Import necessary libraries\n",
        "import numpy as np\n",
        "from sklearn.ensemble import IsolationForest\n",
        "from sklearn.model_selection import train_test_split\n",
        "from sklearn import metrics\n",
        "\n",
        "# Create Isolation Forest model\n",
        "iso_forest = IsolationForest(contamination=0.05, random_state=42)\n",
        "\n",
        "# Train-test split\n",
        "x_train_iso, x_test_iso, y_train_iso, y_test_iso = train_test_split(x, y, test_size=0.2, random_state=42)\n",
        "\n",
        "# Train the Isolation Forest model\n",
        "iso_forest.fit(x_train_iso)\n",
        "\n",
        "# Predict on training and testing sets\n",
        "train_preds_iso = iso_forest.predict(x_train_iso)\n",
        "test_preds_iso = iso_forest.predict(x_test_iso)\n",
        "\n",
        "# Convert predictions to binary labels (1: inlier, -1: outlier)\n",
        "train_labels_iso = np.where(train_preds_iso == 1, 0, 1)\n",
        "test_labels_iso = np.where(test_preds_iso == 1, 0, 1)\n",
        "\n",
        "# Calculate and print evaluation metrics\n",
        "train_accuracy_iso = metrics.accuracy_score(y_train_iso, train_labels_iso)\n",
        "test_accuracy_iso = metrics.accuracy_score(y_test_iso, test_labels_iso)\n",
        "\n",
        "train_precision_iso = metrics.precision_score(y_train_iso, train_labels_iso)\n",
        "test_precision_iso = metrics.precision_score(y_test_iso, test_labels_iso)\n",
        "\n",
        "train_recall_iso = metrics.recall_score(y_train_iso, train_labels_iso)\n",
        "test_recall_iso = metrics.recall_score(y_test_iso, test_labels_iso)\n",
        "\n",
        "print(\"Isolation Forest Evaluation Metrics:\")\n",
        "print(\"Training Accuracy: {:.2f}%\".format(train_accuracy_iso * 100))\n",
        "print(\"Testing Accuracy: {:.2f}%\".format(test_accuracy_iso * 100))\n",
        "print(\"Training Precision: {:.2f}\".format(train_precision_iso))\n",
        "print(\"Testing Precision: {:.2f}\".format(test_precision_iso))\n",
        "print(\"Training Recall: {:.2f}\".format(train_recall_iso))\n",
        "print(\"Testing Recall: {:.2f}\".format(test_recall_iso))\n",
        "\n",
        "# Display confusion matrices or any other relevant information\n"
      ],
      "metadata": {
        "colab": {
          "base_uri": "https://localhost:8080/"
        },
        "id": "6Y66EVv_MEt1",
        "outputId": "7d1d4b74-85be-4af9-cd66-a3886b683056"
      },
      "execution_count": null,
      "outputs": [
        {
          "output_type": "stream",
          "name": "stdout",
          "text": [
            "Isolation Forest Evaluation Metrics:\n",
            "Training Accuracy: 55.25%\n",
            "Testing Accuracy: 54.95%\n",
            "Training Precision: 0.67\n",
            "Testing Precision: 0.67\n",
            "Training Recall: 0.07\n",
            "Testing Recall: 0.07\n"
          ]
        }
      ]
    }
  ],
  "metadata": {
    "colab": {
      "provenance": []
    },
    "kernelspec": {
      "display_name": "Python 3",
      "name": "python3"
    },
    "language_info": {
      "name": "python"
    }
  },
  "nbformat": 4,
  "nbformat_minor": 0
}